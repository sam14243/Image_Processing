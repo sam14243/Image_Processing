{
 "cells": [
  {
   "cell_type": "code",
   "execution_count": 21,
   "metadata": {},
   "outputs": [],
   "source": [
    "import numpy as np\n",
    "from keras.datasets import cifar10\n",
    "from keras.models import Sequential, Model\n",
    "from keras.layers import Input, Conv2D, MaxPooling2D, Flatten, Dense, Dropout\n",
    "from keras import regularizers, optimizers\n",
    "from keras.utils import to_categorical"
   ]
  },
  {
   "cell_type": "code",
   "execution_count": 10,
   "metadata": {},
   "outputs": [],
   "source": [
    "(x_train, y_train), (x_test, y_test) = cifar10.load_data()\n",
    "\n",
    "x_train = x_train.astype('float32') / 255\n",
    "x_test = x_test.astype('float32') / 255\n",
    "\n",
    "num_classes = 10\n",
    "y_train = to_categorical(y_train, num_classes)\n",
    "y_test = to_categorical(y_test, num_classes)\n"
   ]
  },
  {
   "cell_type": "code",
   "execution_count": 11,
   "metadata": {},
   "outputs": [
    {
     "data": {
      "text/plain": [
       "array([[0., 0., 0., ..., 0., 0., 0.],\n",
       "       [0., 0., 0., ..., 0., 0., 1.],\n",
       "       [0., 0., 0., ..., 0., 0., 1.],\n",
       "       ...,\n",
       "       [0., 0., 0., ..., 0., 0., 1.],\n",
       "       [0., 1., 0., ..., 0., 0., 0.],\n",
       "       [0., 1., 0., ..., 0., 0., 0.]], dtype=float32)"
      ]
     },
     "execution_count": 11,
     "metadata": {},
     "output_type": "execute_result"
    }
   ],
   "source": [
    "y_train"
   ]
  },
  {
   "cell_type": "code",
   "execution_count": 18,
   "metadata": {},
   "outputs": [],
   "source": [
    "import cv2\n",
    "\n",
    "# Image enhancements\n",
    "def enhance_image(image):\n",
    "    blurred = cv2.GaussianBlur(image, (5, 5), 0)\n",
    "    return blurred\n",
    "\n",
    "enhanced_x_train = np.array([enhance_image(image) for image in x_train])\n",
    "\n",
    "# Enhance the images in x_test\n",
    "enhanced_x_test = np.array([enhance_image(image) for image in x_test])\n"
   ]
  },
  {
   "cell_type": "code",
   "execution_count": 94,
   "metadata": {},
   "outputs": [
    {
     "data": {
      "text/plain": [
       "(50000, 32, 32, 3)"
      ]
     },
     "execution_count": 94,
     "metadata": {},
     "output_type": "execute_result"
    }
   ],
   "source": [
    "x_train.shape"
   ]
  },
  {
   "cell_type": "code",
   "execution_count": 95,
   "metadata": {},
   "outputs": [
    {
     "data": {
      "text/plain": [
       "(50000, 32, 32, 3)"
      ]
     },
     "execution_count": 95,
     "metadata": {},
     "output_type": "execute_result"
    }
   ],
   "source": [
    "enhanced_x_train.shape"
   ]
  },
  {
   "cell_type": "code",
   "execution_count": 97,
   "metadata": {},
   "outputs": [],
   "source": [
    "from keras.models import Sequential\n",
    "from keras.preprocessing.image import ImageDataGenerator\n",
    "\n",
    "# Create an instance of ImageDataGenerator\n",
    "datagen = ImageDataGenerator(\n",
    "    rotation_range=40,  # rotate images randomly by 10 degrees\n",
    "    shear_range=0.2,  # apply shear transformation with a shear angle of 20 degrees\n",
    "    zoom_range=0.2,  # zoom in/out on images by 20%\n",
    "    horizontal_flip=True,  # flip images horizontally\n",
    "    fill_mode='nearest'  # fill any newly created pixels after rotation or shifting\n",
    ")\n",
    "\n",
    "# Generate augmented images from x_train\n",
    "augmented_train = datagen.flow(enhanced_x_train, y_train, 128)\n",
    "\n",
    "# Generate augmented images from x_test\n",
    "augmented_test = datagen.flow(enhanced_x_test, y_test, 128)"
   ]
  },
  {
   "cell_type": "code",
   "execution_count": 76,
   "metadata": {},
   "outputs": [
    {
     "data": {
      "text/plain": [
       "(64, 32, 32, 3)"
      ]
     },
     "execution_count": 76,
     "metadata": {},
     "output_type": "execute_result"
    }
   ],
   "source": [
    "augmented_train[0][0].shape"
   ]
  },
  {
   "cell_type": "code",
   "execution_count": 107,
   "metadata": {},
   "outputs": [],
   "source": [
    "model = Sequential()\n",
    "\n",
    "model.add(Conv2D(32, (4,4), activation='relu', input_shape = (32,32,3)))\n",
    "model.add(MaxPooling2D(pool_size = (2,2)))\n",
    "\n",
    "model.add(Conv2D(64, (4,4), activation='relu'))\n",
    "model.add(MaxPooling2D(pool_size = (2,2)))\n",
    "\n",
    "model.add(Conv2D(128, (4,4), activation='relu'))\n",
    "model.add(MaxPooling2D(pool_size = (2,2)))\n",
    "\n",
    "model.add(Flatten())\n",
    "model.add(Dropout(0.5))\n",
    "model.add(Dense(128, activation ='relu'))\n",
    "model.add(Dense(10, activation ='softmax'))"
   ]
  },
  {
   "cell_type": "code",
   "execution_count": 108,
   "metadata": {},
   "outputs": [],
   "source": [
    "model.compile(loss = 'categorical_crossentropy', optimizer = 'adam', metrics = ['accuracy'])"
   ]
  },
  {
   "cell_type": "code",
   "execution_count": 109,
   "metadata": {},
   "outputs": [
    {
     "name": "stdout",
     "output_type": "stream",
     "text": [
      "Model: \"sequential_17\"\n",
      "_________________________________________________________________\n",
      " Layer (type)                Output Shape              Param #   \n",
      "=================================================================\n",
      " conv2d_56 (Conv2D)          (None, 29, 29, 32)        1568      \n",
      "                                                                 \n",
      " max_pooling2d_49 (MaxPoolin  (None, 14, 14, 32)       0         \n",
      " g2D)                                                            \n",
      "                                                                 \n",
      " conv2d_57 (Conv2D)          (None, 11, 11, 64)        32832     \n",
      "                                                                 \n",
      " max_pooling2d_50 (MaxPoolin  (None, 5, 5, 64)         0         \n",
      " g2D)                                                            \n",
      "                                                                 \n",
      " conv2d_58 (Conv2D)          (None, 2, 2, 128)         131200    \n",
      "                                                                 \n",
      " max_pooling2d_51 (MaxPoolin  (None, 1, 1, 128)        0         \n",
      " g2D)                                                            \n",
      "                                                                 \n",
      " flatten_10 (Flatten)        (None, 128)               0         \n",
      "                                                                 \n",
      " dropout_7 (Dropout)         (None, 128)               0         \n",
      "                                                                 \n",
      " dense_18 (Dense)            (None, 128)               16512     \n",
      "                                                                 \n",
      " dense_19 (Dense)            (None, 10)                1290      \n",
      "                                                                 \n",
      "=================================================================\n",
      "Total params: 183,402\n",
      "Trainable params: 183,402\n",
      "Non-trainable params: 0\n",
      "_________________________________________________________________\n"
     ]
    }
   ],
   "source": [
    "model.summary()"
   ]
  },
  {
   "cell_type": "code",
   "execution_count": 110,
   "metadata": {},
   "outputs": [
    {
     "name": "stdout",
     "output_type": "stream",
     "text": [
      "Epoch 1/30\n",
      "1563/1563 [==============================] - 8s 5ms/step - loss: 1.7804 - accuracy: 0.3380 - val_loss: 1.4670 - val_accuracy: 0.4617\n",
      "Epoch 2/30\n",
      "1563/1563 [==============================] - 7s 4ms/step - loss: 1.5068 - accuracy: 0.4502 - val_loss: 1.3486 - val_accuracy: 0.5050\n",
      "Epoch 3/30\n",
      "1563/1563 [==============================] - 9s 6ms/step - loss: 1.4152 - accuracy: 0.4895 - val_loss: 1.3082 - val_accuracy: 0.5269\n",
      "Epoch 4/30\n",
      "1563/1563 [==============================] - 7s 4ms/step - loss: 1.3516 - accuracy: 0.5114 - val_loss: 1.2478 - val_accuracy: 0.5544\n",
      "Epoch 5/30\n",
      "1563/1563 [==============================] - 7s 4ms/step - loss: 1.3016 - accuracy: 0.5343 - val_loss: 1.2483 - val_accuracy: 0.5514\n",
      "Epoch 6/30\n",
      "1563/1563 [==============================] - 6s 4ms/step - loss: 1.2611 - accuracy: 0.5504 - val_loss: 1.2195 - val_accuracy: 0.5685\n",
      "Epoch 7/30\n",
      "1563/1563 [==============================] - 7s 4ms/step - loss: 1.2276 - accuracy: 0.5623 - val_loss: 1.2062 - val_accuracy: 0.5744\n",
      "Epoch 8/30\n",
      "1563/1563 [==============================] - 6s 4ms/step - loss: 1.2025 - accuracy: 0.5733 - val_loss: 1.1909 - val_accuracy: 0.5819\n",
      "Epoch 9/30\n",
      "1563/1563 [==============================] - 6s 4ms/step - loss: 1.1845 - accuracy: 0.5756 - val_loss: 1.1595 - val_accuracy: 0.5924\n",
      "Epoch 10/30\n",
      "1563/1563 [==============================] - 10s 7ms/step - loss: 1.1571 - accuracy: 0.5891 - val_loss: 1.1380 - val_accuracy: 0.5966\n",
      "Epoch 11/30\n",
      "1563/1563 [==============================] - 12s 7ms/step - loss: 1.1386 - accuracy: 0.5964 - val_loss: 1.1718 - val_accuracy: 0.5820\n",
      "Epoch 12/30\n",
      "1563/1563 [==============================] - 7s 4ms/step - loss: 1.1199 - accuracy: 0.6022 - val_loss: 1.1140 - val_accuracy: 0.6080\n",
      "Epoch 13/30\n",
      "1563/1563 [==============================] - 6s 4ms/step - loss: 1.1099 - accuracy: 0.6054 - val_loss: 1.1329 - val_accuracy: 0.6052\n",
      "Epoch 14/30\n",
      "1563/1563 [==============================] - 7s 4ms/step - loss: 1.0894 - accuracy: 0.6128 - val_loss: 1.1285 - val_accuracy: 0.6036\n",
      "Epoch 15/30\n",
      "1563/1563 [==============================] - 16s 10ms/step - loss: 1.0800 - accuracy: 0.6178 - val_loss: 1.1081 - val_accuracy: 0.6037\n",
      "Epoch 16/30\n",
      "1563/1563 [==============================] - 6s 4ms/step - loss: 1.0704 - accuracy: 0.6222 - val_loss: 1.1082 - val_accuracy: 0.6133\n",
      "Epoch 17/30\n",
      "1563/1563 [==============================] - 6s 4ms/step - loss: 1.0583 - accuracy: 0.6264 - val_loss: 1.0911 - val_accuracy: 0.6207\n",
      "Epoch 18/30\n",
      "1563/1563 [==============================] - 7s 4ms/step - loss: 1.0451 - accuracy: 0.6290 - val_loss: 1.1193 - val_accuracy: 0.6136\n",
      "Epoch 19/30\n",
      "1563/1563 [==============================] - 7s 4ms/step - loss: 1.0373 - accuracy: 0.6327 - val_loss: 1.1095 - val_accuracy: 0.6095\n",
      "Epoch 20/30\n",
      "1563/1563 [==============================] - 15s 10ms/step - loss: 1.0261 - accuracy: 0.6366 - val_loss: 1.0801 - val_accuracy: 0.6171\n",
      "Epoch 21/30\n",
      "1563/1563 [==============================] - 28s 18ms/step - loss: 1.0223 - accuracy: 0.6386 - val_loss: 1.0961 - val_accuracy: 0.6176\n",
      "Epoch 22/30\n",
      "1563/1563 [==============================] - 7s 5ms/step - loss: 1.0098 - accuracy: 0.6416 - val_loss: 1.0661 - val_accuracy: 0.6295\n",
      "Epoch 23/30\n",
      "1563/1563 [==============================] - 20s 13ms/step - loss: 1.0063 - accuracy: 0.6441 - val_loss: 1.1034 - val_accuracy: 0.6110\n",
      "Epoch 24/30\n",
      "1563/1563 [==============================] - 21s 14ms/step - loss: 0.9916 - accuracy: 0.6485 - val_loss: 1.0864 - val_accuracy: 0.6273\n",
      "Epoch 25/30\n",
      "1563/1563 [==============================] - 25s 16ms/step - loss: 0.9918 - accuracy: 0.6502 - val_loss: 1.0876 - val_accuracy: 0.6243\n",
      "Epoch 26/30\n",
      "1563/1563 [==============================] - 27s 17ms/step - loss: 0.9832 - accuracy: 0.6500 - val_loss: 1.0754 - val_accuracy: 0.6306\n",
      "Epoch 27/30\n",
      "1563/1563 [==============================] - 13s 8ms/step - loss: 0.9722 - accuracy: 0.6576 - val_loss: 1.0939 - val_accuracy: 0.6199\n",
      "Epoch 28/30\n",
      "1563/1563 [==============================] - 6s 4ms/step - loss: 0.9677 - accuracy: 0.6575 - val_loss: 1.0753 - val_accuracy: 0.6278\n",
      "Epoch 29/30\n",
      "1563/1563 [==============================] - 7s 5ms/step - loss: 0.9639 - accuracy: 0.6571 - val_loss: 1.0743 - val_accuracy: 0.6242\n",
      "Epoch 30/30\n",
      "1563/1563 [==============================] - 24s 15ms/step - loss: 0.9606 - accuracy: 0.6612 - val_loss: 1.0777 - val_accuracy: 0.6298\n"
     ]
    },
    {
     "data": {
      "text/plain": [
       "<keras.callbacks.History at 0x2129fcda280>"
      ]
     },
     "execution_count": 110,
     "metadata": {},
     "output_type": "execute_result"
    }
   ],
   "source": [
    "model.fit(enhanced_x_train, y_train, epochs=30, validation_data=(enhanced_x_test, y_test))"
   ]
  },
  {
   "cell_type": "code",
   "execution_count": 111,
   "metadata": {},
   "outputs": [
    {
     "name": "stdout",
     "output_type": "stream",
     "text": [
      "313/313 [==============================] - 1s 4ms/step - loss: 1.3293 - accuracy: 0.5336\n"
     ]
    },
    {
     "data": {
      "text/plain": [
       "[1.329317569732666, 0.5335999727249146]"
      ]
     },
     "execution_count": 111,
     "metadata": {},
     "output_type": "execute_result"
    }
   ],
   "source": [
    "model1.evaluate(enhanced_x_test, y_test)"
   ]
  },
  {
   "cell_type": "code",
   "execution_count": 68,
   "metadata": {},
   "outputs": [],
   "source": [
    "model1 = Sequential()\n",
    "model1.add(Conv2D(32, (4,4), activation='relu', input_shape = (32,32,3)))\n",
    "model1.add(MaxPooling2D(pool_size = (2,2)))\n",
    "\n",
    "model1.add(Conv2D(64, (4,4), activation='relu'))\n",
    "model1.add(MaxPooling2D(pool_size = (2,2)))\n",
    "\n",
    "model1.add(Conv2D(128, (4,4), activation='relu'))\n",
    "model1.add(MaxPooling2D(pool_size = (2,2)))\n",
    "\n",
    "model1.add(Flatten())\n",
    "model1.add(Dropout(0.5))\n",
    "model1.add(Dense(128, activation ='relu'))\n",
    "model1.add(Dense(10, activation ='softmax'))"
   ]
  },
  {
   "cell_type": "code",
   "execution_count": 69,
   "metadata": {},
   "outputs": [],
   "source": [
    "model1.compile(loss = 'categorical_crossentropy', optimizer = 'adam', metrics = ['accuracy'])"
   ]
  },
  {
   "cell_type": "code",
   "execution_count": 77,
   "metadata": {},
   "outputs": [
    {
     "name": "stdout",
     "output_type": "stream",
     "text": [
      "Epoch 1/30\n",
      "782/782 [==============================] - 17s 21ms/step - loss: 1.8586 - accuracy: 0.3107 - val_loss: 1.5853 - val_accuracy: 0.4202\n",
      "Epoch 2/30\n",
      "782/782 [==============================] - 16s 20ms/step - loss: 1.5971 - accuracy: 0.4184 - val_loss: 1.4503 - val_accuracy: 0.4770\n",
      "Epoch 3/30\n",
      "782/782 [==============================] - 17s 21ms/step - loss: 1.5009 - accuracy: 0.4599 - val_loss: 1.3663 - val_accuracy: 0.5135\n",
      "Epoch 4/30\n",
      "782/782 [==============================] - 16s 20ms/step - loss: 1.4402 - accuracy: 0.4847 - val_loss: 1.3094 - val_accuracy: 0.5378\n",
      "Epoch 5/30\n",
      "782/782 [==============================] - 16s 20ms/step - loss: 1.3945 - accuracy: 0.5020 - val_loss: 1.2851 - val_accuracy: 0.5463\n",
      "Epoch 6/30\n",
      "782/782 [==============================] - 16s 20ms/step - loss: 1.3633 - accuracy: 0.5145 - val_loss: 1.2447 - val_accuracy: 0.5620\n",
      "Epoch 7/30\n",
      "782/782 [==============================] - 15s 20ms/step - loss: 1.3273 - accuracy: 0.5314 - val_loss: 1.2426 - val_accuracy: 0.5675\n",
      "Epoch 8/30\n",
      "782/782 [==============================] - 21s 27ms/step - loss: 1.3126 - accuracy: 0.5359 - val_loss: 1.2418 - val_accuracy: 0.5622\n",
      "Epoch 9/30\n",
      "782/782 [==============================] - 17s 21ms/step - loss: 1.2893 - accuracy: 0.5423 - val_loss: 1.1942 - val_accuracy: 0.5808\n",
      "Epoch 10/30\n",
      "782/782 [==============================] - 16s 21ms/step - loss: 1.2734 - accuracy: 0.5503 - val_loss: 1.2017 - val_accuracy: 0.5776\n",
      "Epoch 11/30\n",
      "782/782 [==============================] - 16s 21ms/step - loss: 1.2502 - accuracy: 0.5583 - val_loss: 1.1779 - val_accuracy: 0.5891\n",
      "Epoch 12/30\n",
      "782/782 [==============================] - 17s 21ms/step - loss: 1.2407 - accuracy: 0.5625 - val_loss: 1.1557 - val_accuracy: 0.5926\n",
      "Epoch 13/30\n",
      "782/782 [==============================] - 25s 31ms/step - loss: 1.2246 - accuracy: 0.5689 - val_loss: 1.1774 - val_accuracy: 0.5794\n",
      "Epoch 14/30\n",
      "782/782 [==============================] - 19s 25ms/step - loss: 1.2096 - accuracy: 0.5722 - val_loss: 1.1494 - val_accuracy: 0.5991\n",
      "Epoch 15/30\n",
      "782/782 [==============================] - 16s 20ms/step - loss: 1.2090 - accuracy: 0.5731 - val_loss: 1.1217 - val_accuracy: 0.6073\n",
      "Epoch 16/30\n",
      "782/782 [==============================] - 16s 21ms/step - loss: 1.2023 - accuracy: 0.5769 - val_loss: 1.1642 - val_accuracy: 0.6018\n",
      "Epoch 17/30\n",
      "782/782 [==============================] - 16s 21ms/step - loss: 1.1955 - accuracy: 0.5815 - val_loss: 1.1542 - val_accuracy: 0.5989\n",
      "Epoch 18/30\n",
      "782/782 [==============================] - 16s 20ms/step - loss: 1.1767 - accuracy: 0.5881 - val_loss: 1.1065 - val_accuracy: 0.6189\n",
      "Epoch 19/30\n",
      "782/782 [==============================] - 16s 20ms/step - loss: 1.1683 - accuracy: 0.5906 - val_loss: 1.1212 - val_accuracy: 0.6107\n",
      "Epoch 20/30\n",
      "782/782 [==============================] - 16s 20ms/step - loss: 1.1675 - accuracy: 0.5901 - val_loss: 1.0916 - val_accuracy: 0.6248\n",
      "Epoch 21/30\n",
      "782/782 [==============================] - 15s 20ms/step - loss: 1.1551 - accuracy: 0.5954 - val_loss: 1.0875 - val_accuracy: 0.6297\n",
      "Epoch 22/30\n",
      "782/782 [==============================] - 18s 22ms/step - loss: 1.1529 - accuracy: 0.5963 - val_loss: 1.1036 - val_accuracy: 0.6198\n",
      "Epoch 23/30\n",
      "782/782 [==============================] - 15s 20ms/step - loss: 1.1415 - accuracy: 0.6003 - val_loss: 1.0842 - val_accuracy: 0.6319\n",
      "Epoch 24/30\n",
      "782/782 [==============================] - 16s 20ms/step - loss: 1.1338 - accuracy: 0.6045 - val_loss: 1.0920 - val_accuracy: 0.6277\n",
      "Epoch 25/30\n",
      "782/782 [==============================] - 15s 19ms/step - loss: 1.1364 - accuracy: 0.6016 - val_loss: 1.1103 - val_accuracy: 0.6220\n",
      "Epoch 26/30\n",
      "782/782 [==============================] - 16s 20ms/step - loss: 1.1245 - accuracy: 0.6055 - val_loss: 1.0670 - val_accuracy: 0.6390\n",
      "Epoch 27/30\n",
      "782/782 [==============================] - 15s 20ms/step - loss: 1.1253 - accuracy: 0.6063 - val_loss: 1.0597 - val_accuracy: 0.6374\n",
      "Epoch 28/30\n",
      "782/782 [==============================] - 16s 20ms/step - loss: 1.1245 - accuracy: 0.6088 - val_loss: 1.0821 - val_accuracy: 0.6346\n",
      "Epoch 29/30\n",
      "782/782 [==============================] - 16s 20ms/step - loss: 1.1046 - accuracy: 0.6173 - val_loss: 1.0590 - val_accuracy: 0.6397\n",
      "Epoch 30/30\n",
      "782/782 [==============================] - 15s 20ms/step - loss: 1.1141 - accuracy: 0.6129 - val_loss: 1.1037 - val_accuracy: 0.6272\n"
     ]
    },
    {
     "data": {
      "text/plain": [
       "<keras.callbacks.History at 0x2129f14d700>"
      ]
     },
     "execution_count": 77,
     "metadata": {},
     "output_type": "execute_result"
    }
   ],
   "source": [
    "model1.fit(augmented_train, epochs=30, validation_data=augmented_test)"
   ]
  },
  {
   "cell_type": "code",
   "execution_count": 78,
   "metadata": {},
   "outputs": [
    {
     "name": "stdout",
     "output_type": "stream",
     "text": [
      "157/157 [==============================] - 3s 17ms/step - loss: 1.0994 - accuracy: 0.6301\n"
     ]
    },
    {
     "data": {
      "text/plain": [
       "[1.09935462474823, 0.6301000118255615]"
      ]
     },
     "execution_count": 78,
     "metadata": {},
     "output_type": "execute_result"
    }
   ],
   "source": [
    "model1.evaluate(augmented_test)"
   ]
  },
  {
   "cell_type": "code",
   "execution_count": 79,
   "metadata": {},
   "outputs": [
    {
     "name": "stdout",
     "output_type": "stream",
     "text": [
      "157/157 [==============================] - 3s 16ms/step - loss: 1.1130 - accuracy: 0.6155\n"
     ]
    },
    {
     "data": {
      "text/plain": [
       "[1.1130120754241943, 0.6154999732971191]"
      ]
     },
     "execution_count": 79,
     "metadata": {},
     "output_type": "execute_result"
    }
   ],
   "source": [
    "model.evaluate(augmented_test)"
   ]
  }
 ],
 "metadata": {
  "kernelspec": {
   "display_name": "gpukeras",
   "language": "python",
   "name": "python3"
  },
  "language_info": {
   "codemirror_mode": {
    "name": "ipython",
    "version": 3
   },
   "file_extension": ".py",
   "mimetype": "text/x-python",
   "name": "python",
   "nbconvert_exporter": "python",
   "pygments_lexer": "ipython3",
   "version": "3.9.18"
  }
 },
 "nbformat": 4,
 "nbformat_minor": 2
}
